{
 "cells": [
  {
   "cell_type": "markdown",
   "metadata": {},
   "source": [
    "# Airfoil Self-Noise after resonance of diferent Free-stream velocity\n"
   ]
  },
  {
   "cell_type": "markdown",
   "metadata": {},
   "source": [
    "### Importing libraries "
   ]
  },
  {
   "cell_type": "code",
   "execution_count": 22,
   "metadata": {},
   "outputs": [],
   "source": [
    "import pandas as pd\n",
    "from sklearn.linear_model import LinearRegression\n",
    "from sklearn.model_selection import train_test_split\n",
    "import matplotlib.pyplot as plt"
   ]
  },
  {
   "cell_type": "markdown",
   "metadata": {},
   "source": [
    "### Manipulating data "
   ]
  },
  {
   "cell_type": "code",
   "execution_count": 23,
   "metadata": {},
   "outputs": [
    {
     "name": "stderr",
     "output_type": "stream",
     "text": [
      "/tmp/ipykernel_27834/4245623569.py:7: UserWarning: Boolean Series key will be reindexed to match DataFrame index.\n",
      "  df1 = df1[df1[\"U_infinity\"] == 31.7][df1[\"f\"] > 1600]\n",
      "/tmp/ipykernel_27834/4245623569.py:8: UserWarning: Boolean Series key will be reindexed to match DataFrame index.\n",
      "  df2 = df2[df2[\"U_infinity\"] == 55.5][df2[\"f\"] > 2000]\n",
      "/tmp/ipykernel_27834/4245623569.py:9: UserWarning: Boolean Series key will be reindexed to match DataFrame index.\n",
      "  df3 = df3[df3[\"U_infinity\"] == 71.3][df3[\"f\"] > 2500]\n"
     ]
    },
    {
     "data": {
      "text/html": [
       "<div>\n",
       "<style scoped>\n",
       "    .dataframe tbody tr th:only-of-type {\n",
       "        vertical-align: middle;\n",
       "    }\n",
       "\n",
       "    .dataframe tbody tr th {\n",
       "        vertical-align: top;\n",
       "    }\n",
       "\n",
       "    .dataframe thead th {\n",
       "        text-align: right;\n",
       "    }\n",
       "</style>\n",
       "<table border=\"1\" class=\"dataframe\">\n",
       "  <thead>\n",
       "    <tr style=\"text-align: right;\">\n",
       "      <th></th>\n",
       "      <th>f</th>\n",
       "      <th>alpha</th>\n",
       "      <th>c</th>\n",
       "      <th>U_infinity</th>\n",
       "      <th>delta</th>\n",
       "      <th>SSPL</th>\n",
       "    </tr>\n",
       "  </thead>\n",
       "  <tbody>\n",
       "    <tr>\n",
       "      <th>6</th>\n",
       "      <td>3150</td>\n",
       "      <td>0.0</td>\n",
       "      <td>0.3048</td>\n",
       "      <td>71.3</td>\n",
       "      <td>0.002663</td>\n",
       "      <td>125.201</td>\n",
       "    </tr>\n",
       "    <tr>\n",
       "      <th>7</th>\n",
       "      <td>4000</td>\n",
       "      <td>0.0</td>\n",
       "      <td>0.3048</td>\n",
       "      <td>71.3</td>\n",
       "      <td>0.002663</td>\n",
       "      <td>123.061</td>\n",
       "    </tr>\n",
       "    <tr>\n",
       "      <th>8</th>\n",
       "      <td>5000</td>\n",
       "      <td>0.0</td>\n",
       "      <td>0.3048</td>\n",
       "      <td>71.3</td>\n",
       "      <td>0.002663</td>\n",
       "      <td>121.301</td>\n",
       "    </tr>\n",
       "    <tr>\n",
       "      <th>9</th>\n",
       "      <td>6300</td>\n",
       "      <td>0.0</td>\n",
       "      <td>0.3048</td>\n",
       "      <td>71.3</td>\n",
       "      <td>0.002663</td>\n",
       "      <td>119.541</td>\n",
       "    </tr>\n",
       "    <tr>\n",
       "      <th>10</th>\n",
       "      <td>8000</td>\n",
       "      <td>0.0</td>\n",
       "      <td>0.3048</td>\n",
       "      <td>71.3</td>\n",
       "      <td>0.002663</td>\n",
       "      <td>117.151</td>\n",
       "    </tr>\n",
       "  </tbody>\n",
       "</table>\n",
       "</div>"
      ],
      "text/plain": [
       "       f  alpha       c  U_infinity     delta     SSPL\n",
       "6   3150    0.0  0.3048        71.3  0.002663  125.201\n",
       "7   4000    0.0  0.3048        71.3  0.002663  123.061\n",
       "8   5000    0.0  0.3048        71.3  0.002663  121.301\n",
       "9   6300    0.0  0.3048        71.3  0.002663  119.541\n",
       "10  8000    0.0  0.3048        71.3  0.002663  117.151"
      ]
     },
     "execution_count": 23,
     "metadata": {},
     "output_type": "execute_result"
    }
   ],
   "source": [
    "df = pd.read_csv(\"AirfoilSelfNoise.csv\")\n",
    "df = df[df[\"alpha\"] == 0]\n",
    "df = df[df[\"c\"] == 0.3048]\n",
    "df1 = df\n",
    "df2 = df\n",
    "df3 = df\n",
    "df1 = df1[df1[\"U_infinity\"] == 31.7][df1[\"f\"] > 1600]\n",
    "df2 = df2[df2[\"U_infinity\"] == 55.5][df2[\"f\"] > 2000]\n",
    "df3 = df3[df3[\"U_infinity\"] == 71.3][df3[\"f\"] > 2500]\n",
    "\n",
    "\n",
    "df3.head()"
   ]
  },
  {
   "cell_type": "markdown",
   "metadata": {},
   "source": [
    "### Preparing Data"
   ]
  },
  {
   "cell_type": "code",
   "execution_count": 24,
   "metadata": {},
   "outputs": [],
   "source": [
    "X1 = df1['f'].values\n",
    "Y1 = df1['SSPL'].values\n",
    "x_train1, x_test1, y_train1, y_test1 = train_test_split(X1, Y1, train_size=0.8, test_size=0.2, random_state=5000)\n",
    "X2 = df2['f'].values\n",
    "Y2 = df2['SSPL'].values\n",
    "x_train2, x_test2, y_train2, y_test2 = train_test_split(X2, Y2, train_size=0.8, test_size=0.2, random_state=5000)\n",
    "X3 = df3['f'].values\n",
    "Y3 = df3['SSPL'].values\n",
    "x_train3, x_test3, y_train3, y_test3 = train_test_split(X3, Y3, train_size=0.8, test_size=0.2, random_state=5000)"
   ]
  },
  {
   "cell_type": "markdown",
   "metadata": {},
   "source": [
    "## Create the linear regression models"
   ]
  },
  {
   "cell_type": "code",
   "execution_count": 25,
   "metadata": {},
   "outputs": [
    {
     "data": {
      "text/plain": [
       "LinearRegression()"
      ]
     },
     "execution_count": 25,
     "metadata": {},
     "output_type": "execute_result"
    }
   ],
   "source": [
    "model1 = LinearRegression()\n",
    "model1.fit(x_train1.reshape(-1,1), y_train1)\n",
    "model2 = LinearRegression()\n",
    "model2.fit(x_train2.reshape(-1,1), y_train2)\n",
    "model3 = LinearRegression()\n",
    "model3.fit(x_train3.reshape(-1,1), y_train3)"
   ]
  },
  {
   "cell_type": "markdown",
   "metadata": {},
   "source": [
    "### Calculate predicts "
   ]
  },
  {
   "cell_type": "code",
   "execution_count": 26,
   "metadata": {},
   "outputs": [],
   "source": [
    "y_predict1 = model1.predict(x_test1.reshape(-1,1))\n",
    "y_predict2 = model2.predict(x_test2.reshape(-1,1))\n",
    "y_predict3 = model3.predict(x_test3.reshape(-1,1))"
   ]
  },
  {
   "cell_type": "markdown",
   "metadata": {},
   "source": [
    "### Calculate accuracy"
   ]
  },
  {
   "cell_type": "code",
   "execution_count": 27,
   "metadata": {},
   "outputs": [],
   "source": [
    "train_accuracy = model1.score(x_train1.reshape(-1,1), y_train1)\n",
    "test_accuracy = model1.score(x_test1.reshape(-1,1), y_test1)"
   ]
  },
  {
   "cell_type": "markdown",
   "metadata": {},
   "source": [
    "## Plotting "
   ]
  },
  {
   "cell_type": "code",
   "execution_count": 28,
   "metadata": {},
   "outputs": [
    {
     "data": {
      "text/plain": [
       "Text(0.5, 1.0, 'Actual Data (Dots) vs Predicted Data (line)')"
      ]
     },
     "execution_count": 28,
     "metadata": {},
     "output_type": "execute_result"
    },
    {
     "data": {
      "image/png": "[encoded data removed]",
      "text/plain": [
       "<Figure size 432x288 with 1 Axes>"
      ]
     },
     "metadata": {
      "needs_background": "light"
     },
     "output_type": "display_data"
    }
   ],
   "source": [
    "%matplotlib inline\n",
    "plt.scatter(x_train1,y_train1,color='red')\n",
    "plt.plot(x_test1,y_predict1)\n",
    "plt.scatter(x_train2,y_train2,color='yellow')\n",
    "plt.plot(x_test2,y_predict2,color='purple')\n",
    "plt.scatter(x_train3,y_train3,color='green')\n",
    "plt.plot(x_test3,y_predict3)\n",
    "plt.xlabel('frequency [Hz]')\n",
    "plt.ylabel('SSPP [dB]')\n",
    "plt.title('Actual Data (Dots) vs Predicted Data (line)')"
   ]
  },
  {
   "cell_type": "code",
   "execution_count": 29,
   "metadata": {},
   "outputs": [
    {
     "data": {
      "text/plain": [
       "Text(0.5, 1.0, 'Origin Data')"
      ]
     },
     "execution_count": 29,
     "metadata": {},
     "output_type": "execute_result"
    },
    {
     "data": {
      "image/png": "[encoded data removed]",
      "text/plain": [
       "<Figure size 432x288 with 1 Axes>"
      ]
     },
     "metadata": {
      "needs_background": "light"
     },
     "output_type": "display_data"
    }
   ],
   "source": [
    "%matplotlib inline\n",
    "plt.scatter(X1,Y1, color ='red')\n",
    "plt.scatter(X2,Y2,color='yellow')\n",
    "plt.scatter(X3,Y3,color='green')\n",
    "plt.xlabel('frequency [Hz]')\n",
    "plt.ylabel('SSPP [dB] ')\n",
    "plt.title('Origin Data')"
   ]
  },
  {
   "cell_type": "code",
   "execution_count": 30,
   "metadata": {},
   "outputs": [
    {
     "data": {
      "text/plain": [
       "Text(0.5, 1.0, 'trained Data (Dots)')"
      ]
     },
     "execution_count": 30,
     "metadata": {},
     "output_type": "execute_result"
    },
    {
     "data": {
      "image/png": "[encoded data removed]",
      "text/plain": [
       "<Figure size 432x288 with 1 Axes>"
      ]
     },
     "metadata": {
      "needs_background": "light"
     },
     "output_type": "display_data"
    }
   ],
   "source": [
    "%matplotlib inline\n",
    "plt.scatter(x_train1,y_train1,color='red')\n",
    "plt.scatter(x_train2,y_train2,color='yellow')\n",
    "plt.scatter(x_train3,y_train3,color='green')\n",
    "plt.xlabel('frequency [Hz]')\n",
    "plt.ylabel('SSPP [dB]')\n",
    "plt.title('trained Data (Dots)')"
   ]
  }
 ],
 "metadata": {
  "interpreter": {
   "hash": "faf056819a4b9c45bd40613bd2167e6996744a47e30cf3e171ef478e1347393d"
  },
  "kernelspec": {
   "display_name": "Python 3.9.5 64-bit ('.venv': poetry)",
   "language": "python",
   "name": "python3"
  },
  "language_info": {
   "codemirror_mode": {
    "name": "ipython",
    "version": 3
   },
   "file_extension": ".py",
   "mimetype": "text/x-python",
   "name": "python",
   "nbconvert_exporter": "python",
   "pygments_lexer": "ipython3",
   "version": "3.9.5"
  },
  "orig_nbformat": 4
 },
 "nbformat": 4,
 "nbformat_minor": 2
}
